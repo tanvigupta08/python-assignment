{
 "cells": [
  {
   "cell_type": "code",
   "execution_count": 1,
   "id": "f50bf91a-159a-491f-8a67-b55b410c33b1",
   "metadata": {},
   "outputs": [],
   "source": [
    "# QUES 1 - Explain the key features of python that make it a popular choice for programming."
   ]
  },
  {
   "cell_type": "markdown",
   "id": "41e989e4-1522-4dd3-9394-342172c5bff6",
   "metadata": {},
   "source": [
    "1.widely used in industry - Python is a basic programming language that is used in every tech based industry"
   ]
  },
  {
   "cell_type": "markdown",
   "id": "90aa106e-5459-4626-b69c-aa45086454d6",
   "metadata": {},
   "source": [
    "2. easy and simple - Python is easy to understand and consists simplicity.  "
   ]
  },
  {
   "cell_type": "markdown",
   "id": "b2fd4a04-2e4b-4ced-b606-f197955fd1fd",
   "metadata": {},
   "source": [
    "3.Image processing - Pytyhon provides the feature of processing images in the notebook which helps in finding more details"
   ]
  },
  {
   "cell_type": "markdown",
   "id": "6e8f75f9-638f-4770-9ae1-4b0e0d3c54ed",
   "metadata": {},
   "source": [
    "4.A lot of libraries - Python consists of several libraries which makes python different from other programming languages."
   ]
  },
  {
   "cell_type": "markdown",
   "id": "9b58636d-e80a-4103-ba30-f995f585dcc1",
   "metadata": {},
   "source": [
    "5.Helps in data analysis - Python helps in analysing data and also in providing frontend and backent services."
   ]
  },
  {
   "cell_type": "code",
   "execution_count": 1,
   "id": "c69051f0-deb3-4e19-8ae7-75dd00dc9653",
   "metadata": {},
   "outputs": [],
   "source": [
    "# QUES 2 -  Describe the role of predefined keywords in Python and provide examples of how they are used in a program\n"
   ]
  },
  {
   "cell_type": "markdown",
   "id": "428c83b3-689e-4368-a5cf-178de82da29c",
   "metadata": {},
   "source": [
    "The main role of predefined keywords is that they are used to define the syntax of the code. It serves a specific function in python. It is limited to one single function and it cannot be set as a variable name or a function name\n",
    "\n",
    "Some of the keywords in python are - print , true, false , for, while, break , continue , if etc. \n"
   ]
  },
  {
   "cell_type": "code",
   "execution_count": 2,
   "id": "c476911e-01ff-4abf-be35-38155ecf805a",
   "metadata": {},
   "outputs": [
    {
     "name": "stdout",
     "output_type": "stream",
     "text": [
      "I completed my assignment\n"
     ]
    }
   ],
   "source": [
    "# EXAMPLE 1 - \n",
    "print (\"I completed my assignment\")\n"
   ]
  },
  {
   "cell_type": "code",
   "execution_count": 5,
   "id": "d3c678ea-92a2-4f89-94dd-55599a37d81e",
   "metadata": {},
   "outputs": [
    {
     "name": "stdout",
     "output_type": "stream",
     "text": [
      " you are pass\n"
     ]
    }
   ],
   "source": [
    "#EXAMPLE 2 -\n",
    "a = 85\n",
    "if a > 33 :\n",
    "    print(\" you are pass\")\n"
   ]
  },
  {
   "cell_type": "code",
   "execution_count": 6,
   "id": "12508b08-0e87-449f-9388-f7e4fd06cf28",
   "metadata": {},
   "outputs": [],
   "source": [
    "#QUES 3 -  Compare and contrast mutable and immutable objects in Python with examples\n"
   ]
  },
  {
   "cell_type": "markdown",
   "id": "f7b2367a-d813-4d91-8363-1aa873b9f941",
   "metadata": {},
   "source": [
    "Mutable objects - Objects whose state or value can be changed after they are created are callled as mutable objects.\n",
    "They are also called as item assignment\n",
    "Mutability affects how objects are stored and manipulated in memory,affecting performance and memory usage in python program.\n",
    "\n",
    "Example - list and dictionary\n"
   ]
  },
  {
   "cell_type": "markdown",
   "id": "f0231ab8-5b9a-4f12-86e1-3f08907d27af",
   "metadata": {},
   "source": [
    "Immutable objects - Objects whose state or value cannot be changed after they are created are called as immutable objects.\n",
    "Immutable objects doesn't suport item assignment\n",
    "\n",
    "Example - tuples and strings"
   ]
  },
  {
   "cell_type": "code",
   "execution_count": 1,
   "id": "8bc67c98-5b7a-4e85-9067-41daa5d36f99",
   "metadata": {},
   "outputs": [],
   "source": [
    "# QUES 4 -  Discuss the different types of operators in Python and provide examples of how they are used"
   ]
  },
  {
   "cell_type": "markdown",
   "id": "9b86aa10-cabd-4dfb-9d0b-6286399674d8",
   "metadata": {},
   "source": [
    "Operators are special keywords or symbols that are used to perform some operations on values or variables.\n",
    "we use operators to manage ,do computation and make decision using data."
   ]
  },
  {
   "cell_type": "markdown",
   "id": "b19f636d-fc16-4a32-abda-3baea7ef2815",
   "metadata": {},
   "source": [
    "Different types of operators are-\n",
    "1.arithmatic operators\n",
    "2.comparison operators\n",
    "3.logical operators\n",
    "4.assignment operators"
   ]
  },
  {
   "cell_type": "code",
   "execution_count": 3,
   "id": "71161eda-96c9-4b79-b966-82d1e6c1e3a1",
   "metadata": {},
   "outputs": [
    {
     "data": {
      "text/plain": [
       "100"
      ]
     },
     "execution_count": 3,
     "metadata": {},
     "output_type": "execute_result"
    }
   ],
   "source": [
    "# ARITHMATIC OPERATORS - \n",
    "a = 30\n",
    "b= 70\n",
    "a + b\n"
   ]
  },
  {
   "cell_type": "code",
   "execution_count": 5,
   "id": "5b1196fb-1b89-41a6-9a6e-c5511017980b",
   "metadata": {},
   "outputs": [
    {
     "data": {
      "text/plain": [
       "True"
      ]
     },
     "execution_count": 5,
     "metadata": {},
     "output_type": "execute_result"
    }
   ],
   "source": [
    "# COMPARISON OPERATORS-\n",
    "95!=20"
   ]
  },
  {
   "cell_type": "code",
   "execution_count": 7,
   "id": "ce5e8f1d-2289-440c-9a28-7fbaf998bac9",
   "metadata": {},
   "outputs": [
    {
     "data": {
      "text/plain": [
       "'true'"
      ]
     },
     "execution_count": 7,
     "metadata": {},
     "output_type": "execute_result"
    }
   ],
   "source": [
    "#LOGICAL OPERATORS- \n",
    "\"true\" or \"false\""
   ]
  },
  {
   "cell_type": "code",
   "execution_count": 10,
   "id": "6b1e5753-17a5-493e-a84b-22a9e345a8e3",
   "metadata": {},
   "outputs": [
    {
     "data": {
      "text/plain": [
       "20"
      ]
     },
     "execution_count": 10,
     "metadata": {},
     "output_type": "execute_result"
    }
   ],
   "source": [
    "#ASSIGNMENT OPERATORS -\n",
    "b = 16\n",
    "b+=4\n",
    "b"
   ]
  },
  {
   "cell_type": "code",
   "execution_count": 11,
   "id": "4f9c8173-d55e-42f8-8981-b6afc404340f",
   "metadata": {},
   "outputs": [],
   "source": [
    "#  QUES 5 - explain the concept of type casting in Python with examples\n"
   ]
  },
  {
   "cell_type": "markdown",
   "id": "2173ed4d-7a9e-4c38-b0ea-96ea9f4668a6",
   "metadata": {},
   "source": [
    "Type casting is the process of changing the data types of a value or an object.\n",
    "we use typecasting because while computation using operators ,there can be mismatch between the data.\n"
   ]
  },
  {
   "cell_type": "code",
   "execution_count": 24,
   "id": "ed4438b7-e13e-46ca-94de-9dcf13bc2f10",
   "metadata": {},
   "outputs": [
    {
     "data": {
      "text/plain": [
       "3"
      ]
     },
     "execution_count": 24,
     "metadata": {},
     "output_type": "execute_result"
    }
   ],
   "source": [
    "#EXAMPLE -  \n",
    "#to convert a float to integer\n",
    "a = 3.7\n",
    "int(a)\n"
   ]
  },
  {
   "cell_type": "code",
   "execution_count": 25,
   "id": "89a76780-bf42-4e16-be38-74ca493140c8",
   "metadata": {},
   "outputs": [
    {
     "data": {
      "text/plain": [
       "'5'"
      ]
     },
     "execution_count": 25,
     "metadata": {},
     "output_type": "execute_result"
    }
   ],
   "source": [
    "#EXAMPLE - \n",
    "# to convert integer to string\n",
    "a = 5\n",
    "str(a)"
   ]
  },
  {
   "cell_type": "code",
   "execution_count": 26,
   "id": "24f85de9-2d49-4c72-9b7a-c0a8c8ab14b0",
   "metadata": {},
   "outputs": [],
   "source": [
    "# ques 6 - How do conditional statements work in Python? Illustrate with examples\n"
   ]
  },
  {
   "cell_type": "markdown",
   "id": "8df18e1a-7de7-48f9-8a3c-ba7a26a18ec0",
   "metadata": {},
   "source": [
    "Conditional statements helps us to code decisions based on some preconditions.\n",
    "Python supports conditionals like if , elif and else to control the flow of execution.\n",
    "Conditionals can be nested to handle multiple conditions and control different branches of execution based on the outcome of logical expressions."
   ]
  },
  {
   "cell_type": "raw",
   "id": "373270f1-878c-48ac-a79f-2b601d4e48e8",
   "metadata": {},
   "source": [
    "syntax -\n",
    "if condition true:\n",
    "block of code will be executed"
   ]
  },
  {
   "cell_type": "code",
   "execution_count": 30,
   "id": "37dd3410-a816-4e08-9474-f1dc76acd24d",
   "metadata": {},
   "outputs": [
    {
     "name": "stdout",
     "output_type": "stream",
     "text": [
      " i will study\n"
     ]
    }
   ],
   "source": [
    "#EXAMPLE -\n",
    "subject = \"english\"\n",
    "if subject == \"english\":\n",
    "    print (\" i will study\")\n"
   ]
  },
  {
   "cell_type": "code",
   "execution_count": 35,
   "id": "a6dfda1e-d6a8-4a7b-be6a-01e3fd50ab62",
   "metadata": {},
   "outputs": [
    {
     "name": "stdout",
     "output_type": "stream",
     "text": [
      "i will study\n"
     ]
    }
   ],
   "source": [
    "#EXAMPLE - \n",
    "subject = \"english\"\n",
    "if subject ==\"english\":\n",
    "    print(\"i will study\")\n",
    "else:\n",
    "    print (\"i will play\")"
   ]
  },
  {
   "cell_type": "code",
   "execution_count": 1,
   "id": "76625b5c-e679-4042-8815-2847adbbc36f",
   "metadata": {},
   "outputs": [],
   "source": [
    "#ques 7 - Describe the different types of loops in Python and their use cases with example"
   ]
  },
  {
   "cell_type": "markdown",
   "id": "da0cce4f-90d3-4c25-a9c2-6a35b1316323",
   "metadata": {},
   "source": [
    "Loops allow us to execute a block of code repeatedly.\n",
    "there are two types of loops:-\n",
    "1.while\n",
    "2.for"
   ]
  },
  {
   "cell_type": "markdown",
   "id": "9b7a5256-372a-4c20-8e5f-cdd19aabb78d",
   "metadata": {},
   "source": [
    "While loop - repeatedly executes a block of code until a condition is met"
   ]
  },
  {
   "cell_type": "code",
   "execution_count": 6,
   "id": "f1c606b5-2b02-40f5-a846-487725f7c25d",
   "metadata": {},
   "outputs": [
    {
     "name": "stdout",
     "output_type": "stream",
     "text": [
      "6\n",
      "5\n",
      "4\n",
      "3\n",
      "2\n",
      "1\n",
      "number is lesser or equal to 6\n"
     ]
    }
   ],
   "source": [
    "#EXAMPLE -\n",
    "count = 6 \n",
    "while count > 0:\n",
    "    print (count)\n",
    "    count = count - 1\n",
    "else:\n",
    "    print(\"number is lesser or equal to 6\") \n",
    "        "
   ]
  },
  {
   "cell_type": "raw",
   "id": "f531a422-4675-4af0-b2be-b33f5d919175",
   "metadata": {},
   "source": [
    "break - terminates or exit the loop\n",
    "continue - skips the iteration"
   ]
  },
  {
   "cell_type": "code",
   "execution_count": 44,
   "id": "819fc6e8-4aee-4a5d-9339-bbb470c22182",
   "metadata": {},
   "outputs": [
    {
     "name": "stdout",
     "output_type": "stream",
     "text": [
      "1\n",
      "2\n"
     ]
    }
   ],
   "source": [
    "#break in while loop\n",
    "c = 7\n",
    "i =1\n",
    "while i<c:\n",
    "    print (i)\n",
    "    i = i +1\n",
    "    if i == 3:\n",
    "        break\n"
   ]
  },
  {
   "cell_type": "code",
   "execution_count": 47,
   "id": "f32aaf5e-c4a2-497a-80fa-b34403c379e0",
   "metadata": {},
   "outputs": [
    {
     "name": "stdout",
     "output_type": "stream",
     "text": [
      "2\n",
      "4\n",
      "5\n",
      "6\n",
      "7\n"
     ]
    }
   ],
   "source": [
    "#coninue in while loop\n",
    "c = 7\n",
    "i =1\n",
    "while i<c:\n",
    "    i = i + 1\n",
    "    if i ==3 :\n",
    "        continue\n",
    "    print(i)"
   ]
  },
  {
   "cell_type": "markdown",
   "id": "1de88959-c247-4e3e-a4d3-fea09d3b9d43",
   "metadata": {},
   "source": [
    "for loop - It is used to iterate over a sequence of elements"
   ]
  },
  {
   "cell_type": "code",
   "execution_count": 8,
   "id": "b6ce5a7f-b657-4617-a1dd-f20f5a7e8688",
   "metadata": {},
   "outputs": [
    {
     "name": "stdout",
     "output_type": "stream",
     "text": [
      "1\n",
      "2\n",
      "tanvi\n",
      "3\n"
     ]
    }
   ],
   "source": [
    "#EXAMPLE - \n",
    "a = [1,2,\"tanvi\",3]\n",
    "for i in a :\n",
    "    print (i)"
   ]
  },
  {
   "cell_type": "code",
   "execution_count": 25,
   "id": "826d98f6-23a3-454e-b556-33ec9e319895",
   "metadata": {},
   "outputs": [
    {
     "name": "stdout",
     "output_type": "stream",
     "text": [
      "1\n",
      "2\n"
     ]
    }
   ],
   "source": [
    "#break statement in for loop\n",
    "a = [1 , 2, \"tanvi\", 3]\n",
    "for i in a :\n",
    "    if i == \"tanvi\" :\n",
    "        break\n",
    "    print(i)"
   ]
  },
  {
   "cell_type": "code",
   "execution_count": 37,
   "id": "dead8ccd-330b-4227-89a1-16e8882a74b0",
   "metadata": {},
   "outputs": [
    {
     "name": "stdout",
     "output_type": "stream",
     "text": [
      "1\n",
      "2\n",
      "3\n"
     ]
    }
   ],
   "source": [
    "# continue in for loop\n",
    "a = [1 , 2, \"tanvi\", 3]\n",
    "for i in a :\n",
    "    if i==\"tanvi\":\n",
    "        continue\n",
    "    print (i)\n",
    "         "
   ]
  },
  {
   "cell_type": "code",
   "execution_count": null,
   "id": "0f781122-c058-4965-aaba-4ac4bf9a8171",
   "metadata": {},
   "outputs": [],
   "source": []
  },
  {
   "cell_type": "code",
   "execution_count": null,
   "id": "532b7d70-4972-4315-8347-99767c5a1761",
   "metadata": {},
   "outputs": [],
   "source": []
  }
 ],
 "metadata": {
  "kernelspec": {
   "display_name": "Python 3 (ipykernel)",
   "language": "python",
   "name": "python3"
  },
  "language_info": {
   "codemirror_mode": {
    "name": "ipython",
    "version": 3
   },
   "file_extension": ".py",
   "mimetype": "text/x-python",
   "name": "python",
   "nbconvert_exporter": "python",
   "pygments_lexer": "ipython3",
   "version": "3.10.8"
  }
 },
 "nbformat": 4,
 "nbformat_minor": 5
}
